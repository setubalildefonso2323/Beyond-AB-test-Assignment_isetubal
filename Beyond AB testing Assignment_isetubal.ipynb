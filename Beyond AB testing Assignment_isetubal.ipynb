{
 "cells": [
  {
   "cell_type": "code",
   "execution_count": 2,
   "metadata": {},
   "outputs": [],
   "source": [
    "%matplotlib inline\n",
    "import pandas as pd\n",
    "import numpy as np\n",
    "import matplotlib.pyplot as plt\n",
    "from scipy import stats"
   ]
  },
  {
   "cell_type": "code",
   "execution_count": 79,
   "metadata": {},
   "outputs": [
    {
     "name": "stdout",
     "output_type": "stream",
     "text": [
      "<class 'pandas.core.frame.DataFrame'>\n",
      "RangeIndex: 8147 entries, 0 to 8146\n",
      "Data columns (total 13 columns):\n",
      "cntry      8147 non-null object\n",
      "idno       8147 non-null int64\n",
      "year       8147 non-null int64\n",
      "tvtot      8147 non-null int64\n",
      "ppltrst    8147 non-null int64\n",
      "pplfair    8147 non-null int64\n",
      "pplhlp     8147 non-null int64\n",
      "happy      8147 non-null int64\n",
      "sclmeet    8147 non-null int64\n",
      "sclact     8147 non-null int64\n",
      "gndr       8147 non-null int64\n",
      "agea       8147 non-null int64\n",
      "partner    8147 non-null int64\n",
      "dtypes: int64(12), object(1)\n",
      "memory usage: 827.6+ KB\n"
     ]
    },
    {
     "data": {
      "text/plain": [
       "7    4076\n",
       "6    4071\n",
       "Name: year, dtype: int64"
      ]
     },
     "execution_count": 79,
     "metadata": {},
     "output_type": "execute_result"
    }
   ],
   "source": [
    "ess_combined_2012_2014 = pd.read_csv(\"https://tf-assets-prod.s3.amazonaws.com/tf-curric/data-science/ess_combined_2012_2014.csv\")\n",
    "\n",
    "\n",
    "ess_combined_2012_2014.info()\n",
    "ess_combined_2012_2014['year'].value_counts()"
   ]
  },
  {
   "cell_type": "code",
   "execution_count": 32,
   "metadata": {
    "scrolled": true
   },
   "outputs": [
    {
     "data": {
      "text/html": [
       "<div>\n",
       "<style scoped>\n",
       "    .dataframe tbody tr th:only-of-type {\n",
       "        vertical-align: middle;\n",
       "    }\n",
       "\n",
       "    .dataframe tbody tr th {\n",
       "        vertical-align: top;\n",
       "    }\n",
       "\n",
       "    .dataframe thead tr th {\n",
       "        text-align: left;\n",
       "    }\n",
       "\n",
       "    .dataframe thead tr:last-of-type th {\n",
       "        text-align: right;\n",
       "    }\n",
       "</style>\n",
       "<table border=\"1\" class=\"dataframe\">\n",
       "  <thead>\n",
       "    <tr>\n",
       "      <th></th>\n",
       "      <th>idno</th>\n",
       "      <th>year</th>\n",
       "      <th>tvtot</th>\n",
       "      <th>ppltrst</th>\n",
       "      <th>pplfair</th>\n",
       "      <th>pplhlp</th>\n",
       "      <th>happy</th>\n",
       "      <th>sclmeet</th>\n",
       "      <th>sclact</th>\n",
       "      <th>gndr</th>\n",
       "      <th>agea</th>\n",
       "      <th>partner</th>\n",
       "    </tr>\n",
       "    <tr>\n",
       "      <th></th>\n",
       "      <th>count</th>\n",
       "      <th>count</th>\n",
       "      <th>count</th>\n",
       "      <th>count</th>\n",
       "      <th>count</th>\n",
       "      <th>count</th>\n",
       "      <th>count</th>\n",
       "      <th>count</th>\n",
       "      <th>count</th>\n",
       "      <th>count</th>\n",
       "      <th>count</th>\n",
       "      <th>count</th>\n",
       "    </tr>\n",
       "    <tr>\n",
       "      <th>cntry</th>\n",
       "      <th></th>\n",
       "      <th></th>\n",
       "      <th></th>\n",
       "      <th></th>\n",
       "      <th></th>\n",
       "      <th></th>\n",
       "      <th></th>\n",
       "      <th></th>\n",
       "      <th></th>\n",
       "      <th></th>\n",
       "      <th></th>\n",
       "      <th></th>\n",
       "    </tr>\n",
       "  </thead>\n",
       "  <tbody>\n",
       "    <tr>\n",
       "      <td>CH</td>\n",
       "      <td>1475</td>\n",
       "      <td>1475</td>\n",
       "      <td>1475</td>\n",
       "      <td>1475</td>\n",
       "      <td>1475</td>\n",
       "      <td>1475</td>\n",
       "      <td>1475</td>\n",
       "      <td>1475</td>\n",
       "      <td>1475</td>\n",
       "      <td>1475</td>\n",
       "      <td>1475</td>\n",
       "      <td>1475</td>\n",
       "    </tr>\n",
       "    <tr>\n",
       "      <td>CZ</td>\n",
       "      <td>1207</td>\n",
       "      <td>1207</td>\n",
       "      <td>1207</td>\n",
       "      <td>1207</td>\n",
       "      <td>1207</td>\n",
       "      <td>1207</td>\n",
       "      <td>1207</td>\n",
       "      <td>1207</td>\n",
       "      <td>1207</td>\n",
       "      <td>1207</td>\n",
       "      <td>1207</td>\n",
       "      <td>1207</td>\n",
       "    </tr>\n",
       "    <tr>\n",
       "      <td>DE</td>\n",
       "      <td>27</td>\n",
       "      <td>27</td>\n",
       "      <td>27</td>\n",
       "      <td>27</td>\n",
       "      <td>27</td>\n",
       "      <td>27</td>\n",
       "      <td>27</td>\n",
       "      <td>27</td>\n",
       "      <td>27</td>\n",
       "      <td>27</td>\n",
       "      <td>27</td>\n",
       "      <td>27</td>\n",
       "    </tr>\n",
       "    <tr>\n",
       "      <td>ES</td>\n",
       "      <td>2292</td>\n",
       "      <td>2292</td>\n",
       "      <td>2292</td>\n",
       "      <td>2292</td>\n",
       "      <td>2292</td>\n",
       "      <td>2292</td>\n",
       "      <td>2292</td>\n",
       "      <td>2292</td>\n",
       "      <td>2292</td>\n",
       "      <td>2292</td>\n",
       "      <td>2292</td>\n",
       "      <td>2292</td>\n",
       "    </tr>\n",
       "    <tr>\n",
       "      <td>NO</td>\n",
       "      <td>1420</td>\n",
       "      <td>1420</td>\n",
       "      <td>1420</td>\n",
       "      <td>1420</td>\n",
       "      <td>1420</td>\n",
       "      <td>1420</td>\n",
       "      <td>1420</td>\n",
       "      <td>1420</td>\n",
       "      <td>1420</td>\n",
       "      <td>1420</td>\n",
       "      <td>1420</td>\n",
       "      <td>1420</td>\n",
       "    </tr>\n",
       "    <tr>\n",
       "      <td>SE</td>\n",
       "      <td>1726</td>\n",
       "      <td>1726</td>\n",
       "      <td>1726</td>\n",
       "      <td>1726</td>\n",
       "      <td>1726</td>\n",
       "      <td>1726</td>\n",
       "      <td>1726</td>\n",
       "      <td>1726</td>\n",
       "      <td>1726</td>\n",
       "      <td>1726</td>\n",
       "      <td>1726</td>\n",
       "      <td>1726</td>\n",
       "    </tr>\n",
       "  </tbody>\n",
       "</table>\n",
       "</div>"
      ],
      "text/plain": [
       "       idno  year tvtot ppltrst pplfair pplhlp happy sclmeet sclact  gndr  \\\n",
       "      count count count   count   count  count count   count  count count   \n",
       "cntry                                                                       \n",
       "CH     1475  1475  1475    1475    1475   1475  1475    1475   1475  1475   \n",
       "CZ     1207  1207  1207    1207    1207   1207  1207    1207   1207  1207   \n",
       "DE       27    27    27      27      27     27    27      27     27    27   \n",
       "ES     2292  2292  2292    2292    2292   2292  2292    2292   2292  2292   \n",
       "NO     1420  1420  1420    1420    1420   1420  1420    1420   1420  1420   \n",
       "SE     1726  1726  1726    1726    1726   1726  1726    1726   1726  1726   \n",
       "\n",
       "       agea partner  \n",
       "      count   count  \n",
       "cntry                \n",
       "CH     1475    1475  \n",
       "CZ     1207    1207  \n",
       "DE       27      27  \n",
       "ES     2292    2292  \n",
       "NO     1420    1420  \n",
       "SE     1726    1726  "
      ]
     },
     "execution_count": 32,
     "metadata": {},
     "output_type": "execute_result"
    }
   ],
   "source": [
    "ess_combined_2012_2014.groupby(['cntry']).agg(['count'])"
   ]
  },
  {
   "cell_type": "markdown",
   "metadata": {},
   "source": [
    "1.  DID  PEOPLE BECOME LESS TRUSTING FROM 2012 TO 2014?\n",
    "    --split dataframe for 2012 and 2014\n",
    "    ppltrst\n",
    "    "
   ]
  },
  {
   "cell_type": "code",
   "execution_count": 77,
   "metadata": {},
   "outputs": [
    {
     "name": "stdout",
     "output_type": "stream",
     "text": [
      "<class 'pandas.core.frame.DataFrame'>\n",
      "Int64Index: 4071 entries, 0 to 7279\n",
      "Data columns (total 13 columns):\n",
      "cntry      4071 non-null object\n",
      "idno       4071 non-null int64\n",
      "year       4071 non-null int64\n",
      "tvtot      4071 non-null int64\n",
      "ppltrst    4071 non-null int64\n",
      "pplfair    4071 non-null int64\n",
      "pplhlp     4071 non-null int64\n",
      "happy      4071 non-null int64\n",
      "sclmeet    4071 non-null int64\n",
      "sclact     4071 non-null int64\n",
      "gndr       4071 non-null int64\n",
      "agea       4071 non-null int64\n",
      "partner    4071 non-null int64\n",
      "dtypes: int64(12), object(1)\n",
      "memory usage: 445.3+ KB\n"
     ]
    },
    {
     "data": {
      "text/html": [
       "<div>\n",
       "<style scoped>\n",
       "    .dataframe tbody tr th:only-of-type {\n",
       "        vertical-align: middle;\n",
       "    }\n",
       "\n",
       "    .dataframe tbody tr th {\n",
       "        vertical-align: top;\n",
       "    }\n",
       "\n",
       "    .dataframe thead th {\n",
       "        text-align: right;\n",
       "    }\n",
       "</style>\n",
       "<table border=\"1\" class=\"dataframe\">\n",
       "  <thead>\n",
       "    <tr style=\"text-align: right;\">\n",
       "      <th></th>\n",
       "      <th>cntry</th>\n",
       "      <th>idno</th>\n",
       "      <th>year</th>\n",
       "      <th>tvtot</th>\n",
       "      <th>ppltrst</th>\n",
       "      <th>pplfair</th>\n",
       "      <th>pplhlp</th>\n",
       "      <th>happy</th>\n",
       "      <th>sclmeet</th>\n",
       "      <th>sclact</th>\n",
       "      <th>gndr</th>\n",
       "      <th>agea</th>\n",
       "      <th>partner</th>\n",
       "    </tr>\n",
       "  </thead>\n",
       "  <tbody>\n",
       "    <tr>\n",
       "      <td>7275</td>\n",
       "      <td>SE</td>\n",
       "      <td>3729</td>\n",
       "      <td>6</td>\n",
       "      <td>1</td>\n",
       "      <td>5</td>\n",
       "      <td>5</td>\n",
       "      <td>7</td>\n",
       "      <td>7</td>\n",
       "      <td>7</td>\n",
       "      <td>4</td>\n",
       "      <td>2</td>\n",
       "      <td>15</td>\n",
       "      <td>2</td>\n",
       "    </tr>\n",
       "    <tr>\n",
       "      <td>7276</td>\n",
       "      <td>SE</td>\n",
       "      <td>3732</td>\n",
       "      <td>6</td>\n",
       "      <td>3</td>\n",
       "      <td>3</td>\n",
       "      <td>7</td>\n",
       "      <td>7</td>\n",
       "      <td>5</td>\n",
       "      <td>6</td>\n",
       "      <td>2</td>\n",
       "      <td>2</td>\n",
       "      <td>16</td>\n",
       "      <td>2</td>\n",
       "    </tr>\n",
       "    <tr>\n",
       "      <td>7277</td>\n",
       "      <td>SE</td>\n",
       "      <td>3743</td>\n",
       "      <td>6</td>\n",
       "      <td>4</td>\n",
       "      <td>6</td>\n",
       "      <td>6</td>\n",
       "      <td>5</td>\n",
       "      <td>7</td>\n",
       "      <td>6</td>\n",
       "      <td>4</td>\n",
       "      <td>1</td>\n",
       "      <td>15</td>\n",
       "      <td>2</td>\n",
       "    </tr>\n",
       "    <tr>\n",
       "      <td>7278</td>\n",
       "      <td>SE</td>\n",
       "      <td>3744</td>\n",
       "      <td>6</td>\n",
       "      <td>0</td>\n",
       "      <td>6</td>\n",
       "      <td>7</td>\n",
       "      <td>2</td>\n",
       "      <td>9</td>\n",
       "      <td>7</td>\n",
       "      <td>3</td>\n",
       "      <td>2</td>\n",
       "      <td>15</td>\n",
       "      <td>2</td>\n",
       "    </tr>\n",
       "    <tr>\n",
       "      <td>7279</td>\n",
       "      <td>SE</td>\n",
       "      <td>3746</td>\n",
       "      <td>6</td>\n",
       "      <td>7</td>\n",
       "      <td>5</td>\n",
       "      <td>10</td>\n",
       "      <td>6</td>\n",
       "      <td>10</td>\n",
       "      <td>3</td>\n",
       "      <td>2</td>\n",
       "      <td>2</td>\n",
       "      <td>15</td>\n",
       "      <td>2</td>\n",
       "    </tr>\n",
       "  </tbody>\n",
       "</table>\n",
       "</div>"
      ],
      "text/plain": [
       "     cntry  idno  year  tvtot  ppltrst  pplfair  pplhlp  happy  sclmeet  \\\n",
       "7275    SE  3729     6      1        5        5       7      7        7   \n",
       "7276    SE  3732     6      3        3        7       7      5        6   \n",
       "7277    SE  3743     6      4        6        6       5      7        6   \n",
       "7278    SE  3744     6      0        6        7       2      9        7   \n",
       "7279    SE  3746     6      7        5       10       6     10        3   \n",
       "\n",
       "      sclact  gndr  agea  partner  \n",
       "7275       4     2    15        2  \n",
       "7276       2     2    16        2  \n",
       "7277       4     1    15        2  \n",
       "7278       3     2    15        2  \n",
       "7279       2     2    15        2  "
      ]
     },
     "execution_count": 77,
     "metadata": {},
     "output_type": "execute_result"
    }
   ],
   "source": [
    "ess_2012 = ess_combined_2012_2014[ess_combined_2012_2014['year']== 6]\n",
    "ess_2012.info()\n",
    "ess_2012.head()\n"
   ]
  },
  {
   "cell_type": "code",
   "execution_count": 24,
   "metadata": {},
   "outputs": [
    {
     "name": "stdout",
     "output_type": "stream",
     "text": [
      "<class 'pandas.core.frame.DataFrame'>\n",
      "Int64Index: 4076 entries, 732 to 8146\n",
      "Data columns (total 13 columns):\n",
      "cntry      4076 non-null object\n",
      "idno       4076 non-null int64\n",
      "year       4076 non-null int64\n",
      "tvtot      4076 non-null int64\n",
      "ppltrst    4076 non-null int64\n",
      "pplfair    4076 non-null int64\n",
      "pplhlp     4076 non-null int64\n",
      "happy      4076 non-null int64\n",
      "sclmeet    4076 non-null int64\n",
      "sclact     4076 non-null int64\n",
      "gndr       4076 non-null int64\n",
      "agea       4076 non-null int64\n",
      "partner    4076 non-null int64\n",
      "dtypes: int64(12), object(1)\n",
      "memory usage: 445.8+ KB\n"
     ]
    },
    {
     "data": {
      "text/html": [
       "<div>\n",
       "<style scoped>\n",
       "    .dataframe tbody tr th:only-of-type {\n",
       "        vertical-align: middle;\n",
       "    }\n",
       "\n",
       "    .dataframe tbody tr th {\n",
       "        vertical-align: top;\n",
       "    }\n",
       "\n",
       "    .dataframe thead th {\n",
       "        text-align: right;\n",
       "    }\n",
       "</style>\n",
       "<table border=\"1\" class=\"dataframe\">\n",
       "  <thead>\n",
       "    <tr style=\"text-align: right;\">\n",
       "      <th></th>\n",
       "      <th>cntry</th>\n",
       "      <th>idno</th>\n",
       "      <th>year</th>\n",
       "      <th>tvtot</th>\n",
       "      <th>ppltrst</th>\n",
       "      <th>pplfair</th>\n",
       "      <th>pplhlp</th>\n",
       "      <th>happy</th>\n",
       "      <th>sclmeet</th>\n",
       "      <th>sclact</th>\n",
       "      <th>gndr</th>\n",
       "      <th>agea</th>\n",
       "      <th>partner</th>\n",
       "    </tr>\n",
       "  </thead>\n",
       "  <tbody>\n",
       "    <tr>\n",
       "      <td>732</td>\n",
       "      <td>CH</td>\n",
       "      <td>5</td>\n",
       "      <td>7</td>\n",
       "      <td>2</td>\n",
       "      <td>8</td>\n",
       "      <td>9</td>\n",
       "      <td>7</td>\n",
       "      <td>9</td>\n",
       "      <td>6</td>\n",
       "      <td>4</td>\n",
       "      <td>1</td>\n",
       "      <td>69</td>\n",
       "      <td>1</td>\n",
       "    </tr>\n",
       "    <tr>\n",
       "      <td>733</td>\n",
       "      <td>CH</td>\n",
       "      <td>25</td>\n",
       "      <td>7</td>\n",
       "      <td>4</td>\n",
       "      <td>4</td>\n",
       "      <td>2</td>\n",
       "      <td>5</td>\n",
       "      <td>6</td>\n",
       "      <td>5</td>\n",
       "      <td>3</td>\n",
       "      <td>1</td>\n",
       "      <td>30</td>\n",
       "      <td>1</td>\n",
       "    </tr>\n",
       "    <tr>\n",
       "      <td>734</td>\n",
       "      <td>CH</td>\n",
       "      <td>26</td>\n",
       "      <td>7</td>\n",
       "      <td>3</td>\n",
       "      <td>8</td>\n",
       "      <td>8</td>\n",
       "      <td>6</td>\n",
       "      <td>8</td>\n",
       "      <td>7</td>\n",
       "      <td>5</td>\n",
       "      <td>2</td>\n",
       "      <td>49</td>\n",
       "      <td>2</td>\n",
       "    </tr>\n",
       "    <tr>\n",
       "      <td>735</td>\n",
       "      <td>CH</td>\n",
       "      <td>28</td>\n",
       "      <td>7</td>\n",
       "      <td>2</td>\n",
       "      <td>7</td>\n",
       "      <td>7</td>\n",
       "      <td>5</td>\n",
       "      <td>9</td>\n",
       "      <td>6</td>\n",
       "      <td>2</td>\n",
       "      <td>1</td>\n",
       "      <td>51</td>\n",
       "      <td>1</td>\n",
       "    </tr>\n",
       "    <tr>\n",
       "      <td>736</td>\n",
       "      <td>CH</td>\n",
       "      <td>29</td>\n",
       "      <td>7</td>\n",
       "      <td>2</td>\n",
       "      <td>4</td>\n",
       "      <td>7</td>\n",
       "      <td>0</td>\n",
       "      <td>8</td>\n",
       "      <td>6</td>\n",
       "      <td>2</td>\n",
       "      <td>2</td>\n",
       "      <td>32</td>\n",
       "      <td>2</td>\n",
       "    </tr>\n",
       "  </tbody>\n",
       "</table>\n",
       "</div>"
      ],
      "text/plain": [
       "    cntry  idno  year  tvtot  ppltrst  pplfair  pplhlp  happy  sclmeet  \\\n",
       "732    CH     5     7      2        8        9       7      9        6   \n",
       "733    CH    25     7      4        4        2       5      6        5   \n",
       "734    CH    26     7      3        8        8       6      8        7   \n",
       "735    CH    28     7      2        7        7       5      9        6   \n",
       "736    CH    29     7      2        4        7       0      8        6   \n",
       "\n",
       "     sclact  gndr  agea  partner  \n",
       "732       4     1    69        1  \n",
       "733       3     1    30        1  \n",
       "734       5     2    49        2  \n",
       "735       2     1    51        1  \n",
       "736       2     2    32        2  "
      ]
     },
     "execution_count": 24,
     "metadata": {},
     "output_type": "execute_result"
    }
   ],
   "source": [
    "ess_2014 = ess_combined_2012_2014[ess_combined_2012_2014['year'] == 7]\n",
    "ess_2014.info()\n",
    "ess_combined_2014.head()\n"
   ]
  },
  {
   "cell_type": "code",
   "execution_count": 27,
   "metadata": {},
   "outputs": [
    {
     "data": {
      "image/png": "[encoded data removed]",
      "text/plain": [
       "<Figure size 432x288 with 1 Axes>"
      ]
     },
     "metadata": {
      "needs_background": "light"
     },
     "output_type": "display_data"
    },
    {
     "name": "stdout",
     "output_type": "stream",
     "text": [
      "DescribeResult(nobs=4071, minmax=(0, 10), mean=5.578481945467944, variance=4.893040545067073, skewness=-0.5431086926347095, kurtosis=-0.1210956960964813)\n",
      "DescribeResult(nobs=4076, minmax=(0, 10), mean=5.5713935230618254, variance=4.927171652708959, skewness=-0.4601859476512641, kurtosis=-0.25006786100787215)\n"
     ]
    }
   ],
   "source": [
    "plt.hist(ess_2012['ppltrst'], alpha = .5)\n",
    "plt.hist(ess_2014['ppltrst'], alpha = .5)\n",
    "plt.legend(['2012','2014'])\n",
    "plt.title('People Trust 2012 - 2014')\n",
    "plt.show()\n",
    "\n",
    "print(stats.describe(ess_2012['ppltrst']))\n",
    "print(stats.describe(ess_2014['ppltrst']))"
   ]
  },
  {
   "cell_type": "code",
   "execution_count": 80,
   "metadata": {},
   "outputs": [
    {
     "name": "stdout",
     "output_type": "stream",
     "text": [
      "(0.9520939588546753, 1.4426241793085802e-34)\n",
      "(0.9580563902854919, 9.222525335052542e-33)\n"
     ]
    }
   ],
   "source": [
    "print(stats.shapiro(ess_2012['ppltrst']))\n",
    "print(stats.shapiro(ess_2014['ppltrst']))"
   ]
  },
  {
   "cell_type": "code",
   "execution_count": 34,
   "metadata": {},
   "outputs": [
    {
     "data": {
      "text/plain": [
       "Ttest_indResult(statistic=0.1443685081969842, pvalue=0.8852130548889106)"
      ]
     },
     "execution_count": 34,
     "metadata": {},
     "output_type": "execute_result"
    }
   ],
   "source": [
    "stats.ttest_ind(ess_2012['ppltrst'], ess_2014['ppltrst'])"
   ]
  },
  {
   "cell_type": "markdown",
   "metadata": {},
   "source": [
    "THERE IS NO STATISTICAL SIGNIFICANCE AND THE NULL HYPOTHESIS IS TRUE BECAUSE THE TTEST IS ONLY .14 WHICH IS NOT GREATER THAN 1.96 AND THE PVALUE IS NOT < .05 ."
   ]
  },
  {
   "cell_type": "markdown",
   "metadata": {},
   "source": [
    "2.  DID PEOPLE BECOME HAPPIER FROM 2012 TO 2014?"
   ]
  },
  {
   "cell_type": "code",
   "execution_count": 35,
   "metadata": {},
   "outputs": [
    {
     "data": {
      "image/png": "[encoded data removed]",
      "text/plain": [
       "<Figure size 432x288 with 1 Axes>"
      ]
     },
     "metadata": {
      "needs_background": "light"
     },
     "output_type": "display_data"
    },
    {
     "name": "stdout",
     "output_type": "stream",
     "text": [
      "DescribeResult(nobs=4071, minmax=(0, 10), mean=7.731515598133137, variance=3.0819524689826823, skewness=-1.1505518232802756, kurtosis=1.9055890346061979)\n",
      "DescribeResult(nobs=4076, minmax=(0, 10), mean=7.6854759568204125, variance=2.840436853164115, skewness=-1.0296465664009635, kurtosis=1.5218046596567287)\n"
     ]
    }
   ],
   "source": [
    "plt.hist(ess_2012['happy'], alpha = .5)\n",
    "plt.hist(ess_2014['happy'], alpha = .5)\n",
    "plt.legend(['2012','2014'])\n",
    "plt.title('People Happy 2012 - 2014')\n",
    "plt.show()\n",
    "\n",
    "print(stats.describe(ess_2012['happy']))\n",
    "print(stats.describe(ess_2014['happy']))"
   ]
  },
  {
   "cell_type": "code",
   "execution_count": 36,
   "metadata": {},
   "outputs": [
    {
     "data": {
      "text/plain": [
       "Ttest_indResult(statistic=1.2074597686358974, pvalue=0.2272901912283969)"
      ]
     },
     "execution_count": 36,
     "metadata": {},
     "output_type": "execute_result"
    }
   ],
   "source": [
    "stats.ttest_ind(ess_2012['happy'], ess_2014['happy'])"
   ]
  },
  {
   "cell_type": "code",
   "execution_count": 38,
   "metadata": {},
   "outputs": [
    {
     "data": {
      "text/plain": [
       "KruskalResult(statistic=3.725441202182227, pvalue=0.05358946830655459)"
      ]
     },
     "execution_count": 38,
     "metadata": {},
     "output_type": "execute_result"
    }
   ],
   "source": [
    "stats.kruskal(ess_2012['happy'],ess_2014['happy'])"
   ]
  },
  {
   "cell_type": "markdown",
   "metadata": {},
   "source": [
    "3. Pick three or four of the countries in the sample and compare how often people met socially in 2014. \n",
    "    Are there differences, and if so, which countries stand out?"
   ]
  },
  {
   "cell_type": "code",
   "execution_count": 40,
   "metadata": {},
   "outputs": [
    {
     "data": {
      "text/plain": [
       "array(['CH', 'CZ', 'DE', 'ES', 'NO', 'SE'], dtype=object)"
      ]
     },
     "execution_count": 40,
     "metadata": {},
     "output_type": "execute_result"
    }
   ],
   "source": [
    "ess_2014['cntry'].unique()"
   ]
  },
  {
   "cell_type": "code",
   "execution_count": 42,
   "metadata": {},
   "outputs": [
    {
     "data": {
      "text/plain": [
       "array([[<matplotlib.axes._subplots.AxesSubplot object at 0x0000013527326648>,\n",
       "        <matplotlib.axes._subplots.AxesSubplot object at 0x00000135273E1FC8>],\n",
       "       [<matplotlib.axes._subplots.AxesSubplot object at 0x000001352741C408>,\n",
       "        <matplotlib.axes._subplots.AxesSubplot object at 0x000001352744DA48>]],\n",
       "      dtype=object)"
      ]
     },
     "execution_count": 42,
     "metadata": {},
     "output_type": "execute_result"
    },
    {
     "data": {
      "image/png": "[encoded data removed]",
      "text/plain": [
       "<Figure size 432x288 with 4 Axes>"
      ]
     },
     "metadata": {
      "needs_background": "light"
     },
     "output_type": "display_data"
    }
   ],
   "source": [
    "unique_country = ['CH', 'CZ', 'DE', 'ES']\n",
    "unique_country_2014 = ess_2014[ess_2014['cntry'].isin(unique_country)] \n",
    "\n",
    "unique_country_2014['cntry'].unique()\n",
    "\n",
    "unique_country_2014['sclmeet'].hist(by = unique_country_2014 ['cntry'])"
   ]
  },
  {
   "cell_type": "code",
   "execution_count": 45,
   "metadata": {},
   "outputs": [
    {
     "data": {
      "text/plain": [
       "KruskalResult(statistic=131.71067637166595, pvalue=2.314201415479699e-28)"
      ]
     },
     "execution_count": 45,
     "metadata": {},
     "output_type": "execute_result"
    }
   ],
   "source": [
    "stats.kruskal(unique_country_2014.loc[unique_country_2014 ['cntry'] == 'CH', ['sclmeet']],\n",
    "              unique_country_2014.loc[unique_country_2014 ['cntry'] == 'CZ', ['sclmeet']],\n",
    "              unique_country_2014.loc[unique_country_2014 ['cntry'] == 'DE', ['sclmeet']],\n",
    "              unique_country_2014.loc[unique_country_2014 ['cntry'] == 'ES', ['sclmeet']])\n"
   ]
  },
  {
   "cell_type": "code",
   "execution_count": 49,
   "metadata": {},
   "outputs": [
    {
     "data": {
      "text/plain": [
       "<matplotlib.axes._subplots.AxesSubplot at 0x135275e1b48>"
      ]
     },
     "execution_count": 49,
     "metadata": {},
     "output_type": "execute_result"
    },
    {
     "data": {
      "image/png": "[encoded data removed]",
      "text/plain": [
       "<Figure size 576x360 with 1 Axes>"
      ]
     },
     "metadata": {
      "needs_background": "light"
     },
     "output_type": "display_data"
    }
   ],
   "source": [
    "unique_country_2014.boxplot('sclmeet', by='cntry', figsize=(8,5))"
   ]
  },
  {
   "cell_type": "markdown",
   "metadata": {},
   "source": [
    "THE DE IS DIFFERENT COMPARED TO OTHER COUNTRIES.  DE HAS A DIFFERENT MEDIAN AS COMPARED WITH THE OTHER 3 COUNTRIES IN THE STUDY. DE MEDIAN STANDS BETWEEN 5-4 WHILE THE REST OF THE COUNTRIES STANDS FROM 6-4."
   ]
  },
  {
   "cell_type": "markdown",
   "metadata": {},
   "source": [
    "Pick three or four of the countries in the sample and compare how often people took part in social activities, \n",
    "relative to others their age, in 2014.Are there differences, and if so, which countries stand out?"
   ]
  },
  {
   "cell_type": "code",
   "execution_count": 50,
   "metadata": {},
   "outputs": [
    {
     "data": {
      "text/plain": [
       "array([[<matplotlib.axes._subplots.AxesSubplot object at 0x0000013527738E48>,\n",
       "        <matplotlib.axes._subplots.AxesSubplot object at 0x000001352776A108>],\n",
       "       [<matplotlib.axes._subplots.AxesSubplot object at 0x000001352779EB08>,\n",
       "        <matplotlib.axes._subplots.AxesSubplot object at 0x00000135277D6C48>]],\n",
       "      dtype=object)"
      ]
     },
     "execution_count": 50,
     "metadata": {},
     "output_type": "execute_result"
    },
    {
     "data": {
      "image/png": "[encoded data removed]",
      "text/plain": [
       "<Figure size 432x288 with 4 Axes>"
      ]
     },
     "metadata": {
      "needs_background": "light"
     },
     "output_type": "display_data"
    }
   ],
   "source": [
    "unique_country_2014['sclact'].hist(by = unique_country_2014['cntry'])"
   ]
  },
  {
   "cell_type": "code",
   "execution_count": 52,
   "metadata": {},
   "outputs": [
    {
     "data": {
      "text/plain": [
       "F_onewayResult(statistic=array([4.4857456]), pvalue=array([0.00380436]))"
      ]
     },
     "execution_count": 52,
     "metadata": {},
     "output_type": "execute_result"
    }
   ],
   "source": [
    "stats.f_oneway(unique_country_2014.loc[unique_country_2014 ['cntry'] == 'CH', ['sclact']],\n",
    "              unique_country_2014.loc[unique_country_2014 ['cntry'] == 'CZ', ['sclact']],\n",
    "              unique_country_2014.loc[unique_country_2014 ['cntry'] == 'DE', ['sclact']],\n",
    "              unique_country_2014.loc[unique_country_2014 ['cntry'] == 'ES', ['sclact']])"
   ]
  },
  {
   "cell_type": "code",
   "execution_count": 54,
   "metadata": {},
   "outputs": [
    {
     "data": {
      "text/html": [
       "<table class=\"simpletable\">\n",
       "<caption>Multiple Comparison of Means - Tukey HSD, FWER=0.05</caption>\n",
       "<tr>\n",
       "  <th>group1</th> <th>group2</th> <th>meandiff</th>  <th>p-adj</th>  <th>lower</th>   <th>upper</th>  <th>reject</th>\n",
       "</tr>\n",
       "<tr>\n",
       "    <td>CH</td>     <td>CZ</td>    <td>-0.0553</td> <td>0.6634</td> <td>-0.1836</td>  <td>0.073</td>   <td>False</td>\n",
       "</tr>\n",
       "<tr>\n",
       "    <td>CH</td>     <td>DE</td>    <td>-0.0704</td>   <td>0.9</td>  <td>-0.7026</td> <td>0.5619</td>   <td>False</td>\n",
       "</tr>\n",
       "<tr>\n",
       "    <td>CH</td>     <td>ES</td>    <td>-0.1533</td> <td>0.0021</td> <td>-0.2639</td> <td>-0.0426</td>  <td>True</td> \n",
       "</tr>\n",
       "<tr>\n",
       "    <td>CZ</td>     <td>DE</td>    <td>-0.0151</td>   <td>0.9</td>  <td>-0.6486</td> <td>0.6185</td>   <td>False</td>\n",
       "</tr>\n",
       "<tr>\n",
       "    <td>CZ</td>     <td>ES</td>    <td>-0.098</td>   <td>0.142</td> <td>-0.2159</td> <td>0.0199</td>   <td>False</td>\n",
       "</tr>\n",
       "<tr>\n",
       "    <td>DE</td>     <td>ES</td>    <td>-0.0829</td>   <td>0.9</td>  <td>-0.7131</td> <td>0.5473</td>   <td>False</td>\n",
       "</tr>\n",
       "</table>"
      ],
      "text/plain": [
       "<class 'statsmodels.iolib.table.SimpleTable'>"
      ]
     },
     "execution_count": 54,
     "metadata": {},
     "output_type": "execute_result"
    }
   ],
   "source": [
    "from statsmodels.stats.multicomp import pairwise_tukeyhsd\n",
    "\n",
    "tukey = pairwise_tukeyhsd(endog = unique_country_2014['sclact'],\n",
    "                         groups = unique_country_2014['cntry'],\n",
    "                         alpha = 0.05)\n",
    "\n",
    "tukey.summary()"
   ]
  },
  {
   "cell_type": "markdown",
   "metadata": {},
   "source": [
    "THERE IS NO STATISTICAL SIGNIFICANCE AMONG THE STUDY GROUP.  THE HISTOGRAM SHOWS NO NORMAL DISTRIBUTION AMONG THE STUDY COUNTRIES\n",
    "AND THE TUKEY STATISTICS EXHIBIT NEGATIVE MEDIAN DIFFERENCE."
   ]
  },
  {
   "cell_type": "markdown",
   "metadata": {},
   "source": [
    "RUFF FIGURAL FLUENCY TEST\n",
    "\n",
    "1.  Is there a significant difference in the number of unique designs\n",
    "    drawn by the same participants from Measurement 2 to Measurement 3?"
   ]
  },
  {
   "cell_type": "code",
   "execution_count": 55,
   "metadata": {},
   "outputs": [
    {
     "name": "stdout",
     "output_type": "stream",
     "text": [
      "<class 'pandas.core.frame.DataFrame'>\n",
      "RangeIndex: 7545 entries, 0 to 7544\n",
      "Data columns (total 8 columns):\n",
      "Casenr           7545 non-null int64\n",
      "Age              7545 non-null int64\n",
      "Gender           7545 non-null object\n",
      "Education        7545 non-null object\n",
      "Measurement      7545 non-null object\n",
      "Unique           7545 non-null float64\n",
      "Perseverative    7545 non-null float64\n",
      "Interval         7545 non-null object\n",
      "dtypes: float64(2), int64(2), object(4)\n",
      "memory usage: 471.7+ KB\n"
     ]
    },
    {
     "data": {
      "text/html": [
       "<div>\n",
       "<style scoped>\n",
       "    .dataframe tbody tr th:only-of-type {\n",
       "        vertical-align: middle;\n",
       "    }\n",
       "\n",
       "    .dataframe tbody tr th {\n",
       "        vertical-align: top;\n",
       "    }\n",
       "\n",
       "    .dataframe thead th {\n",
       "        text-align: right;\n",
       "    }\n",
       "</style>\n",
       "<table border=\"1\" class=\"dataframe\">\n",
       "  <thead>\n",
       "    <tr style=\"text-align: right;\">\n",
       "      <th></th>\n",
       "      <th>Casenr</th>\n",
       "      <th>Age</th>\n",
       "      <th>Gender</th>\n",
       "      <th>Education</th>\n",
       "      <th>Measurement</th>\n",
       "      <th>Unique</th>\n",
       "      <th>Perseverative</th>\n",
       "      <th>Interval</th>\n",
       "    </tr>\n",
       "  </thead>\n",
       "  <tbody>\n",
       "    <tr>\n",
       "      <td>0</td>\n",
       "      <td>1</td>\n",
       "      <td>74</td>\n",
       "      <td>Male</td>\n",
       "      <td>Lower secondary school (ISCED 2)</td>\n",
       "      <td>Measurement 1 (2003-2006)</td>\n",
       "      <td>32.0</td>\n",
       "      <td>1.0</td>\n",
       "      <td>Not applicable</td>\n",
       "    </tr>\n",
       "    <tr>\n",
       "      <td>1</td>\n",
       "      <td>1</td>\n",
       "      <td>74</td>\n",
       "      <td>Male</td>\n",
       "      <td>Lower secondary school (ISCED 2)</td>\n",
       "      <td>Measurement 2 (2006-2008)</td>\n",
       "      <td>35.0</td>\n",
       "      <td>0.0</td>\n",
       "      <td>2.842122556</td>\n",
       "    </tr>\n",
       "    <tr>\n",
       "      <td>2</td>\n",
       "      <td>1</td>\n",
       "      <td>74</td>\n",
       "      <td>Male</td>\n",
       "      <td>Lower secondary school (ISCED 2)</td>\n",
       "      <td>Measurement 3 (2008-2012)</td>\n",
       "      <td>50.5</td>\n",
       "      <td>14.5</td>\n",
       "      <td>2.201232033</td>\n",
       "    </tr>\n",
       "    <tr>\n",
       "      <td>3</td>\n",
       "      <td>2</td>\n",
       "      <td>48</td>\n",
       "      <td>Male</td>\n",
       "      <td>Higher secondary school (ISCED 3-4)</td>\n",
       "      <td>Measurement 1 (2003-2006)</td>\n",
       "      <td>26.0</td>\n",
       "      <td>3.0</td>\n",
       "      <td>Not applicable</td>\n",
       "    </tr>\n",
       "    <tr>\n",
       "      <td>4</td>\n",
       "      <td>2</td>\n",
       "      <td>48</td>\n",
       "      <td>Male</td>\n",
       "      <td>Higher secondary school (ISCED 3-4)</td>\n",
       "      <td>Measurement 2 (2006-2008)</td>\n",
       "      <td>47.0</td>\n",
       "      <td>3.0</td>\n",
       "      <td>2.762718362</td>\n",
       "    </tr>\n",
       "  </tbody>\n",
       "</table>\n",
       "</div>"
      ],
      "text/plain": [
       "   Casenr  Age Gender                            Education  \\\n",
       "0       1   74   Male     Lower secondary school (ISCED 2)   \n",
       "1       1   74   Male     Lower secondary school (ISCED 2)   \n",
       "2       1   74   Male     Lower secondary school (ISCED 2)   \n",
       "3       2   48   Male  Higher secondary school (ISCED 3-4)   \n",
       "4       2   48   Male  Higher secondary school (ISCED 3-4)   \n",
       "\n",
       "                 Measurement  Unique  Perseverative        Interval  \n",
       "0  Measurement 1 (2003-2006)    32.0            1.0  Not applicable  \n",
       "1  Measurement 2 (2006-2008)    35.0            0.0     2.842122556  \n",
       "2  Measurement 3 (2008-2012)    50.5           14.5     2.201232033  \n",
       "3  Measurement 1 (2003-2006)    26.0            3.0  Not applicable  \n",
       "4  Measurement 2 (2006-2008)    47.0            3.0     2.762718362  "
      ]
     },
     "execution_count": 55,
     "metadata": {},
     "output_type": "execute_result"
    }
   ],
   "source": [
    "ruff_test = pd.read_csv(\"https://tf-assets-prod.s3.amazonaws.com/tf-curric/data-science/rfft.csv\")\n",
    "\n",
    "ruff_test.info()\n",
    "ruff_test.head()"
   ]
  },
  {
   "cell_type": "code",
   "execution_count": 63,
   "metadata": {},
   "outputs": [
    {
     "data": {
      "text/html": [
       "<div>\n",
       "<style scoped>\n",
       "    .dataframe tbody tr th:only-of-type {\n",
       "        vertical-align: middle;\n",
       "    }\n",
       "\n",
       "    .dataframe tbody tr th {\n",
       "        vertical-align: top;\n",
       "    }\n",
       "\n",
       "    .dataframe thead th {\n",
       "        text-align: right;\n",
       "    }\n",
       "</style>\n",
       "<table border=\"1\" class=\"dataframe\">\n",
       "  <thead>\n",
       "    <tr style=\"text-align: right;\">\n",
       "      <th>Measurement</th>\n",
       "      <th>Measurement 1 (2003-2006)</th>\n",
       "      <th>Measurement 2 (2006-2008)</th>\n",
       "      <th>Measurement 3 (2008-2012)</th>\n",
       "    </tr>\n",
       "    <tr>\n",
       "      <th>Casenr</th>\n",
       "      <th></th>\n",
       "      <th></th>\n",
       "      <th></th>\n",
       "    </tr>\n",
       "  </thead>\n",
       "  <tbody>\n",
       "    <tr>\n",
       "      <td>1</td>\n",
       "      <td>32.0</td>\n",
       "      <td>35.0</td>\n",
       "      <td>50.5</td>\n",
       "    </tr>\n",
       "    <tr>\n",
       "      <td>2</td>\n",
       "      <td>26.0</td>\n",
       "      <td>47.0</td>\n",
       "      <td>71.0</td>\n",
       "    </tr>\n",
       "    <tr>\n",
       "      <td>3</td>\n",
       "      <td>91.0</td>\n",
       "      <td>83.5</td>\n",
       "      <td>77.0</td>\n",
       "    </tr>\n",
       "    <tr>\n",
       "      <td>4</td>\n",
       "      <td>59.0</td>\n",
       "      <td>54.0</td>\n",
       "      <td>64.0</td>\n",
       "    </tr>\n",
       "    <tr>\n",
       "      <td>5</td>\n",
       "      <td>60.0</td>\n",
       "      <td>68.0</td>\n",
       "      <td>21.0</td>\n",
       "    </tr>\n",
       "  </tbody>\n",
       "</table>\n",
       "</div>"
      ],
      "text/plain": [
       "Measurement  Measurement 1 (2003-2006)  Measurement 2 (2006-2008)  \\\n",
       "Casenr                                                              \n",
       "1                                 32.0                       35.0   \n",
       "2                                 26.0                       47.0   \n",
       "3                                 91.0                       83.5   \n",
       "4                                 59.0                       54.0   \n",
       "5                                 60.0                       68.0   \n",
       "\n",
       "Measurement  Measurement 3 (2008-2012)  \n",
       "Casenr                                  \n",
       "1                                 50.5  \n",
       "2                                 71.0  \n",
       "3                                 77.0  \n",
       "4                                 64.0  \n",
       "5                                 21.0  "
      ]
     },
     "execution_count": 63,
     "metadata": {},
     "output_type": "execute_result"
    }
   ],
   "source": [
    "ruff_test_unique = ruff_test.pivot(index ='Casenr', columns ='Measurement', values ='Unique')\n",
    "ruff_test_unique.head()"
   ]
  },
  {
   "cell_type": "code",
   "execution_count": 66,
   "metadata": {},
   "outputs": [
    {
     "name": "stdout",
     "output_type": "stream",
     "text": [
      "DescribeResult(nobs=2515, minmax=(-75.5, 68.5), mean=4.015506958250497, variance=342.2368318331855, skewness=-0.15837265462838976, kurtosis=0.7823714353134701)\n"
     ]
    },
    {
     "data": {
      "image/png": "[encoded data removed]",
      "text/plain": [
       "<Figure size 432x288 with 1 Axes>"
      ]
     },
     "metadata": {
      "needs_background": "light"
     },
     "output_type": "display_data"
    }
   ],
   "source": [
    "plt.hist(ruff_test_unique['Measurement 3 (2008-2012)'] - ruff_test_unique['Measurement 2 (2006-2008)'])\n",
    "print(stats.describe(ruff_test_unique['Measurement 3 (2008-2012)'] - ruff_test_unique['Measurement 2 (2006-2008)']))"
   ]
  },
  {
   "cell_type": "code",
   "execution_count": 67,
   "metadata": {},
   "outputs": [
    {
     "data": {
      "text/plain": [
       "Ttest_relResult(statistic=10.88544039426271, pvalue=5.3585747477799544e-27)"
      ]
     },
     "execution_count": 67,
     "metadata": {},
     "output_type": "execute_result"
    }
   ],
   "source": [
    "stats.ttest_rel(ruff_test_unique['Measurement 3 (2008-2012)'], ruff_test_unique['Measurement 2 (2006-2008)'])"
   ]
  },
  {
   "cell_type": "markdown",
   "metadata": {},
   "source": [
    "THERE IS STATISTICAL SIGNIFICANCE.  THE HISTOGRAM SHOWS A BELL CURVE WITH SKEWNESS AND KUROTOSIS ALMOST CLOSE TO 1."
   ]
  },
  {
   "cell_type": "markdown",
   "metadata": {},
   "source": [
    "2.  Is there a significant difference in the number of perseverative errors drawn by the same participants \n",
    "    from Measurement 2 to Measurement 3?"
   ]
  },
  {
   "cell_type": "code",
   "execution_count": 69,
   "metadata": {},
   "outputs": [
    {
     "data": {
      "text/html": [
       "<div>\n",
       "<style scoped>\n",
       "    .dataframe tbody tr th:only-of-type {\n",
       "        vertical-align: middle;\n",
       "    }\n",
       "\n",
       "    .dataframe tbody tr th {\n",
       "        vertical-align: top;\n",
       "    }\n",
       "\n",
       "    .dataframe thead th {\n",
       "        text-align: right;\n",
       "    }\n",
       "</style>\n",
       "<table border=\"1\" class=\"dataframe\">\n",
       "  <thead>\n",
       "    <tr style=\"text-align: right;\">\n",
       "      <th>Measurement</th>\n",
       "      <th>Measurement 1 (2003-2006)</th>\n",
       "      <th>Measurement 2 (2006-2008)</th>\n",
       "      <th>Measurement 3 (2008-2012)</th>\n",
       "    </tr>\n",
       "    <tr>\n",
       "      <th>Casenr</th>\n",
       "      <th></th>\n",
       "      <th></th>\n",
       "      <th></th>\n",
       "    </tr>\n",
       "  </thead>\n",
       "  <tbody>\n",
       "    <tr>\n",
       "      <td>1</td>\n",
       "      <td>1.0</td>\n",
       "      <td>0.0</td>\n",
       "      <td>14.5</td>\n",
       "    </tr>\n",
       "    <tr>\n",
       "      <td>2</td>\n",
       "      <td>3.0</td>\n",
       "      <td>3.0</td>\n",
       "      <td>0.5</td>\n",
       "    </tr>\n",
       "    <tr>\n",
       "      <td>3</td>\n",
       "      <td>11.0</td>\n",
       "      <td>21.0</td>\n",
       "      <td>17.0</td>\n",
       "    </tr>\n",
       "    <tr>\n",
       "      <td>4</td>\n",
       "      <td>49.0</td>\n",
       "      <td>39.0</td>\n",
       "      <td>11.0</td>\n",
       "    </tr>\n",
       "    <tr>\n",
       "      <td>5</td>\n",
       "      <td>14.0</td>\n",
       "      <td>16.0</td>\n",
       "      <td>0.0</td>\n",
       "    </tr>\n",
       "  </tbody>\n",
       "</table>\n",
       "</div>"
      ],
      "text/plain": [
       "Measurement  Measurement 1 (2003-2006)  Measurement 2 (2006-2008)  \\\n",
       "Casenr                                                              \n",
       "1                                  1.0                        0.0   \n",
       "2                                  3.0                        3.0   \n",
       "3                                 11.0                       21.0   \n",
       "4                                 49.0                       39.0   \n",
       "5                                 14.0                       16.0   \n",
       "\n",
       "Measurement  Measurement 3 (2008-2012)  \n",
       "Casenr                                  \n",
       "1                                 14.5  \n",
       "2                                  0.5  \n",
       "3                                 17.0  \n",
       "4                                 11.0  \n",
       "5                                  0.0  "
      ]
     },
     "execution_count": 69,
     "metadata": {},
     "output_type": "execute_result"
    }
   ],
   "source": [
    "ruff_test_perseverative = ruff_test.pivot(index='Casenr', columns='Measurement', values='Perseverative')\n",
    "ruff_test_perseverative.head()"
   ]
  },
  {
   "cell_type": "code",
   "execution_count": 70,
   "metadata": {},
   "outputs": [
    {
     "data": {
      "text/plain": [
       "(array([1.821e+03, 4.560e+02, 1.210e+02, 5.200e+01, 2.800e+01, 1.600e+01,\n",
       "        1.300e+01, 3.000e+00, 4.000e+00, 1.000e+00]),\n",
       " array([  0.  ,  13.35,  26.7 ,  40.05,  53.4 ,  66.75,  80.1 ,  93.45,\n",
       "        106.8 , 120.15, 133.5 ]),\n",
       " <a list of 10 Patch objects>)"
      ]
     },
     "execution_count": 70,
     "metadata": {},
     "output_type": "execute_result"
    },
    {
     "data": {
      "image/png": "[encoded data removed]",
      "text/plain": [
       "<Figure size 432x288 with 1 Axes>"
      ]
     },
     "metadata": {
      "needs_background": "light"
     },
     "output_type": "display_data"
    }
   ],
   "source": [
    "plt.hist(ruff_test_perseverative['Measurement 3 (2008-2012)'], alpha = .5)\n",
    "plt.hist(ruff_test_perseverative['Measurement 2 (2006-2008)'], alpha = .5)"
   ]
  },
  {
   "cell_type": "code",
   "execution_count": 71,
   "metadata": {},
   "outputs": [
    {
     "data": {
      "text/plain": [
       "WilcoxonResult(statistic=1358373.0, pvalue=0.0006927535563546565)"
      ]
     },
     "execution_count": 71,
     "metadata": {},
     "output_type": "execute_result"
    }
   ],
   "source": [
    "stats.wilcoxon(ruff_test_perseverative['Measurement 3 (2008-2012)'], ruff_test_perseverative['Measurement 2 (2006-2008)'])"
   ]
  },
  {
   "cell_type": "markdown",
   "metadata": {},
   "source": [
    "THERE IS A SIGNIFICANT DIFFERENCE AS THE SKEWNESS IS ON THE POSITIVE SIDE AND THE PVALUE IS LOWER THAN .05."
   ]
  }
 ],
 "metadata": {
  "kernelspec": {
   "display_name": "Python 3",
   "language": "python",
   "name": "python3"
  },
  "language_info": {
   "codemirror_mode": {
    "name": "ipython",
    "version": 3
   },
   "file_extension": ".py",
   "mimetype": "text/x-python",
   "name": "python",
   "nbconvert_exporter": "python",
   "pygments_lexer": "ipython3",
   "version": "3.7.4"
  }
 },
 "nbformat": 4,
 "nbformat_minor": 2
}
